{
 "cells": [
  {
   "cell_type": "markdown",
   "id": "c747dd20-66c5-4952-bcf1-cb3224c29fba",
   "metadata": {
    "tags": []
   },
   "source": [
    "## Data Science Tools and Ecosystem"
   ]
  },
  {
   "cell_type": "markdown",
   "id": "ef173be9-afa2-4ed0-bdd2-8e3a11f9d050",
   "metadata": {},
   "source": [
    "In this notebook, Data Science Tools and Ecosystem are summarized."
   ]
  },
  {
   "cell_type": "markdown",
   "id": "ede7b706-aa82-4da6-9ef5-9eda31e0c340",
   "metadata": {},
   "source": [
    "Some of the popular languages that Data Scientists use are:"
   ]
  },
  {
   "cell_type": "code",
   "execution_count": 3,
   "id": "faf42b3d-b9f5-4a0f-aa67-9915adcdfdb2",
   "metadata": {
    "tags": []
   },
   "outputs": [],
   "source": [
    "myList = [\"Python\", \"Java\", \"Matlab\"]"
   ]
  },
  {
   "cell_type": "markdown",
   "id": "06be7ae3-210e-415b-b77d-be3e02454fa2",
   "metadata": {},
   "source": [
    "Some of the commonly used libraries used by Data Scientists include:"
   ]
  },
  {
   "cell_type": "code",
   "execution_count": 4,
   "id": "25111978-60d2-47d6-878e-d06a598bf52b",
   "metadata": {
    "tags": []
   },
   "outputs": [],
   "source": [
    "myListLibrary = [\"NumPy\", \"Pandas\", \"Matplotlib\"]"
   ]
  },
  {
   "cell_type": "markdown",
   "id": "ab7ce109-b691-4905-be37-c8d1d034e788",
   "metadata": {},
   "source": [
    "| Data Science Tools |\n",
    "| --- |\n",
    "| Hadoop |\n",
    "| Spark |\n",
    "| TensorFlow |"
   ]
  },
  {
   "cell_type": "markdown",
   "id": "f834496b-583b-42ed-a209-c74346dd453b",
   "metadata": {},
   "source": [
    "### Below are a few examples of evaluating arithmetic expressions in Python"
   ]
  },
  {
   "cell_type": "code",
   "execution_count": 5,
   "id": "55dc5c19-4e70-4c21-9568-86866158f62b",
   "metadata": {
    "tags": []
   },
   "outputs": [
    {
     "data": {
      "text/plain": [
       "17"
      ]
     },
     "execution_count": 5,
     "metadata": {},
     "output_type": "execute_result"
    }
   ],
   "source": [
    "# This a simple arithmetic expression to mutiply then add integers\n",
    "(3*4)+5"
   ]
  },
  {
   "cell_type": "code",
   "execution_count": 6,
   "id": "5ab993dd-3aab-4d4f-beb5-87178694c3e4",
   "metadata": {
    "tags": []
   },
   "outputs": [],
   "source": [
    "#This will convert 200 minutes to hours by diving by 60\n",
    "mins = 200\n",
    "hrs = mins/60"
   ]
  },
  {
   "cell_type": "code",
   "execution_count": 7,
   "id": "cde02efa-ad85-4f66-be93-81a6da95b7a0",
   "metadata": {
    "tags": []
   },
   "outputs": [
    {
     "data": {
      "text/plain": [
       "3.3333333333333335"
      ]
     },
     "execution_count": 7,
     "metadata": {},
     "output_type": "execute_result"
    }
   ],
   "source": [
    "hrs"
   ]
  },
  {
   "cell_type": "markdown",
   "id": "0fdbf469-b269-4e6e-8bcd-784212d6c2d3",
   "metadata": {},
   "source": [
    "# Objectives:"
   ]
  },
  {
   "cell_type": "markdown",
   "id": "6e9f7097-dcfa-4224-97c8-9053671042aa",
   "metadata": {},
   "source": [
    "- Python \n",
    "- SQL \n",
    "- R. \n",
    "- JavaScript \n",
    "- Java \n",
    "- Scala"
   ]
  },
  {
   "cell_type": "markdown",
   "id": "b8d2e252-f8c6-4666-953a-447bad04ba96",
   "metadata": {},
   "source": [
    "## Author\n",
    "Rishabh"
   ]
  },
  {
   "cell_type": "code",
   "execution_count": null,
   "id": "ccdae363-40e2-438e-95ad-39431b914756",
   "metadata": {},
   "outputs": [],
   "source": [
    "\n"
   ]
  },
  {
   "cell_type": "code",
   "execution_count": null,
   "id": "94fec94d-34c9-418f-8bfb-3594f727d925",
   "metadata": {},
   "outputs": [],
   "source": []
  }
 ],
 "metadata": {
  "kernelspec": {
   "display_name": "Python",
   "language": "python",
   "name": "conda-env-python-py"
  },
  "language_info": {
   "codemirror_mode": {
    "name": "ipython",
    "version": 3
   },
   "file_extension": ".py",
   "mimetype": "text/x-python",
   "name": "python",
   "nbconvert_exporter": "python",
   "pygments_lexer": "ipython3",
   "version": "3.7.12"
  }
 },
 "nbformat": 4,
 "nbformat_minor": 5
}
